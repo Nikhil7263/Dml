{
 "cells": [
  {
   "cell_type": "code",
   "execution_count": 1,
   "id": "cefad521-6184-40ee-8ff3-0765825f088e",
   "metadata": {},
   "outputs": [
    {
     "name": "stdout",
     "output_type": "stream",
     "text": [
      "My name is Nikhil Im from Paralakhemundi . MOHAN MAJHI is the chief minister of ODISHA.\n"
     ]
    }
   ],
   "source": [
    "input = \"My name is Nikhil Im from Paralakhemundi . MOHAN MAJHI is the chief minister of ODISHA.\"\n",
    "print(input)"
   ]
  },
  {
   "cell_type": "code",
   "execution_count": 2,
   "id": "bc6dd63b-59cf-4574-a0f2-c8e2fd64ee26",
   "metadata": {},
   "outputs": [
    {
     "name": "stdout",
     "output_type": "stream",
     "text": [
      "LOWERCSE =  my name is nikhil im from paralakhemundi . mohan majhi is the chief minister of odisha.\n",
      "REGULAR EXP1 =  my name is nikhil im from chennai . mohan majhi is the chief minister of odisha.\n",
      "REGULAR EXP2 =  *y n*** *s n***** ** *ro* p*r*******un** . *o**n ***** *s t** ***** **n*st*r o* o**s**.\n",
      "REGULAR EXP3 =  my name is nikhil im from paralakhemundi . mohan majhi is the chief minister of odisha.\n"
     ]
    }
   ],
   "source": [
    "#(1)lowercase\n",
    "lowercase = input.lower()\n",
    "print(\"LOWERCSE = \", lowercase)\n",
    "\n",
    "\n",
    "import re\n",
    "lowercase_re = re.sub('paralakhemundi','chennai' ,lowercase)\n",
    "print(\"REGULAR EXP1 = \", lowercase_re)\n",
    "lowercase_re = re.sub('[a-m]', '*', lowercase)\n",
    "print(\"REGULAR EXP2 = \", lowercase_re)\n",
    "lowercase_re = re.sub('\\d', '-', lowercase)\n",
    "print(\"REGULAR EXP3 = \", lowercase_re)"
   ]
  },
  {
   "cell_type": "code",
   "execution_count": 3,
   "id": "64bcef99-7b70-4edf-a3be-b6eb277c2433",
   "metadata": {},
   "outputs": [
    {
     "name": "stdout",
     "output_type": "stream",
     "text": [
      "WORD TOKENS =  ['My', 'name', 'is', 'Nikhil', 'Im', 'from', 'Paralakhemundi', '.', 'MOHAN', 'MAJHI', 'is', 'the', 'chief', 'minister', 'of', 'ODISHA', '.']\n",
      "17\n",
      "SENT TOKENS =  ['My name is Nikhil Im from Paralakhemundi .', 'MOHAN MAJHI is the chief minister of ODISHA.']\n",
      "2\n"
     ]
    }
   ],
   "source": [
    "#(2)Tokenization\n",
    "import nltk\n",
    "from nltk import word_tokenize, sent_tokenize\n",
    "\n",
    "word_tokens = word_tokenize(input)\n",
    "print(\"WORD TOKENS = \", word_tokens)\n",
    "print(len(word_tokens))\n",
    "sent_tokens = sent_tokenize(input)\n",
    "print(\"SENT TOKENS = \", sent_tokens)\n",
    "print(len(sent_tokens))"
   ]
  },
  {
   "cell_type": "code",
   "execution_count": 4,
   "id": "3198e0d9-b489-405e-8b35-e3c17d231eb0",
   "metadata": {},
   "outputs": [
    {
     "name": "stdout",
     "output_type": "stream",
     "text": [
      "My name Nikhil Im Paralakhemundi . MOHAN MAJHI chief minister ODISHA .\n"
     ]
    }
   ],
   "source": [
    "#(3)stopwords Removal\n",
    "from nltk.corpus import stopwords\n",
    "#print(stopwords.fileids())\n",
    "stopwords = set(stopwords.words('english'))\n",
    "#print(\"\\n\", stopwords)\n",
    "\n",
    "tokens_stopwords = []\n",
    "for token in word_tokens:\n",
    "    if token not in stopwords:\n",
    "        tokens_stopwords.append(token)\n",
    "print(' '.join(tokens_stopwords))"
   ]
  }
 ],
 "metadata": {
  "kernelspec": {
   "display_name": "Python 3 (ipykernel)",
   "language": "python",
   "name": "python3"
  },
  "language_info": {
   "codemirror_mode": {
    "name": "ipython",
    "version": 3
   },
   "file_extension": ".py",
   "mimetype": "text/x-python",
   "name": "python",
   "nbconvert_exporter": "python",
   "pygments_lexer": "ipython3",
   "version": "3.13.5"
  }
 },
 "nbformat": 4,
 "nbformat_minor": 5
}
