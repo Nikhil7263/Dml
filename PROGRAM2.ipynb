{
 "cells": [
  {
   "cell_type": "code",
   "execution_count": 1,
   "id": "e0eaa344-fe8f-40c0-bc5a-eaa299a626c8",
   "metadata": {},
   "outputs": [
    {
     "name": "stdout",
     "output_type": "stream",
     "text": [
      "My name is Nikhil Im from Paralakhemundi . MOHAN MAJHI is the chief minister of ODISHA.\n",
      "LOWERCSE =  my name is nikhil im from paralakhemundi . mohan majhi is the chief minister of odisha.\n",
      "REGULAR EXP1 =  my name is nikhil im from chennai . mohan majhi is the chief minister of odisha.\n",
      "REGULAR EXP2 =  *y n*** *s n***** ** *ro* p*r*******un** . *o**n ***** *s t** ***** **n*st*r o* o**s**.\n",
      "REGULAR EXP3 =  my name is nikhil im from paralakhemundi . mohan majhi is the chief minister of odisha.\n",
      "WORD TOKENS =  ['My', 'name', 'is', 'Nikhil', 'Im', 'from', 'Paralakhemundi', '.', 'MOHAN', 'MAJHI', 'is', 'the', 'chief', 'minister', 'of', 'ODISHA', '.']\n",
      "17\n",
      "SENT TOKENS =  ['My name is Nikhil Im from Paralakhemundi .', 'MOHAN MAJHI is the chief minister of ODISHA.']\n",
      "2\n",
      "My name Nikhil Im Paralakhemundi . MOHAN MAJHI chief minister ODISHA .\n"
     ]
    }
   ],
   "source": [
    "input = \"My name is Nikhil Im from Paralakhemundi . MOHAN MAJHI is the chief minister of ODISHA.\"\n",
    "print(input)\n",
    "#(1)lowercase\n",
    "lowercase = input.lower()\n",
    "print(\"LOWERCSE = \", lowercase)\n",
    "\n",
    "#re\n",
    "#pip install re\n",
    "import re\n",
    "lowercase_re = re.sub('paralakhemundi','chennai' ,lowercase)\n",
    "print(\"REGULAR EXP1 = \", lowercase_re)\n",
    "lowercase_re = re.sub('[a-m]', '*', lowercase)\n",
    "print(\"REGULAR EXP2 = \", lowercase_re)\n",
    "lowercase_re = re.sub('\\d', '-', lowercase)\n",
    "print(\"REGULAR EXP3 = \", lowercase_re)\n",
    "#(2)Tokenization\n",
    "import nltk\n",
    "from nltk import word_tokenize, sent_tokenize\n",
    "\n",
    "word_tokens = word_tokenize(input)\n",
    "print(\"WORD TOKENS = \", word_tokens)\n",
    "print(len(word_tokens))\n",
    "sent_tokens = sent_tokenize(input)\n",
    "print(\"SENT TOKENS = \", sent_tokens)\n",
    "print(len(sent_tokens))\n",
    "#(3)stopwords Removal\n",
    "from nltk.corpus import stopwords\n",
    "#print(stopwords.fileids())\n",
    "stopwords = set(stopwords.words('english'))\n",
    "#print(\"\\n\", stopwords)\n",
    "\n",
    "tokens_stopwords = []\n",
    "for token in word_tokens:\n",
    "    if token not in stopwords:\n",
    "        tokens_stopwords.append(token)\n",
    "print(' '.join(tokens_stopwords))"
   ]
  },
  {
   "cell_type": "code",
   "execution_count": 2,
   "id": "4c0f0291-cb9e-4889-ac94-fc6edf2e9906",
   "metadata": {},
   "outputs": [
    {
     "name": "stdout",
     "output_type": "stream",
     "text": [
      "['my', 'name', 'nikhil', 'im', 'paralakhemundi', '.', 'mohan', 'majhi', 'chief', 'minist', 'odisha', '.']\n"
     ]
    }
   ],
   "source": [
    "#Stemmer\n",
    "stemming = []\n",
    "from nltk import PorterStemmer\n",
    "for word in tokens_stopwords:\n",
    "    stemming.append(PorterStemmer().stem(word))\n",
    "print(stemming)"
   ]
  },
  {
   "cell_type": "code",
   "execution_count": 3,
   "id": "aead2143-3799-47b9-b1b9-599ad7569c59",
   "metadata": {},
   "outputs": [
    {
     "name": "stdout",
     "output_type": "stream",
     "text": [
      "['My', 'name', 'Nikhil', 'Im', 'Paralakhemundi', '.', 'MOHAN', 'MAJHI', 'chief', 'minister', 'ODISHA', '.']\n"
     ]
    }
   ],
   "source": [
    "#Lemmatizer\n",
    "from nltk import WordNetLemmatizer\n",
    "lma = []\n",
    "for word in tokens_stopwords:\n",
    "    lma.append(WordNetLemmatizer().lemmatize(word))\n",
    "print(lma)"
   ]
  },
  {
   "cell_type": "code",
   "execution_count": 4,
   "id": "f811512b-bfe8-465c-99ec-6c2ea34a07bb",
   "metadata": {},
   "outputs": [
    {
     "name": "stdout",
     "output_type": "stream",
     "text": [
      "[('My', 'PRP$'), ('name', 'NN'), ('is', 'VBZ'), ('Nikhil', 'NNP'), ('Im', 'NNP'), ('from', 'IN'), ('Paralakhemundi', 'NNP'), ('.', '.'), ('MOHAN', 'NNP'), ('MAJHI', 'NNP'), ('is', 'VBZ'), ('the', 'DT'), ('chief', 'JJ'), ('minister', 'NN'), ('of', 'IN'), ('ODISHA', 'NNP'), ('.', '.')]\n"
     ]
    }
   ],
   "source": [
    "#POS Tags\n",
    "from nltk import pos_tag\n",
    "print(pos_tag(word_tokens))"
   ]
  },
  {
   "cell_type": "code",
   "execution_count": null,
   "id": "2a21a0ad-d008-441a-b5ee-7a6cdabef3c3",
   "metadata": {},
   "outputs": [],
   "source": []
  }
 ],
 "metadata": {
  "kernelspec": {
   "display_name": "Python 3 (ipykernel)",
   "language": "python",
   "name": "python3"
  },
  "language_info": {
   "codemirror_mode": {
    "name": "ipython",
    "version": 3
   },
   "file_extension": ".py",
   "mimetype": "text/x-python",
   "name": "python",
   "nbconvert_exporter": "python",
   "pygments_lexer": "ipython3",
   "version": "3.13.5"
  }
 },
 "nbformat": 4,
 "nbformat_minor": 5
}
