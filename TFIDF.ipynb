{
 "cells": [
  {
   "cell_type": "code",
   "execution_count": 1,
   "id": "58ec3c4f-e1da-4283-9a41-dcad83702f9b",
   "metadata": {},
   "outputs": [],
   "source": [
    "#TF-IDF"
   ]
  },
  {
   "cell_type": "code",
   "execution_count": 2,
   "id": "f83d2e33-31ee-4601-9f8b-8342acaccc71",
   "metadata": {},
   "outputs": [],
   "source": [
    "from nltk import word_tokenize"
   ]
  },
  {
   "cell_type": "code",
   "execution_count": 3,
   "id": "1e30d9b1-beaf-481c-8372-929a8a779f5e",
   "metadata": {},
   "outputs": [],
   "source": [
    "from nltk.corpus import stopwords"
   ]
  },
  {
   "cell_type": "code",
   "execution_count": 4,
   "id": "c9e3d28a-52b2-4e4e-8961-66e9a8094650",
   "metadata": {},
   "outputs": [],
   "source": [
    "from nltk.stem import PorterStemmer"
   ]
  },
  {
   "cell_type": "code",
   "execution_count": 5,
   "id": "89ded3fb-2625-49f2-9275-fe775f884d2f",
   "metadata": {},
   "outputs": [],
   "source": [
    "#pip install scikit-learn"
   ]
  },
  {
   "cell_type": "code",
   "execution_count": 7,
   "id": "516e319a-a515-4466-ae96-1585bf60dfa6",
   "metadata": {},
   "outputs": [],
   "source": [
    "from sklearn.feature_extraction.text import TfidfVectorizer"
   ]
  },
  {
   "cell_type": "code",
   "execution_count": 8,
   "id": "2a99a05c-cd0b-40ee-abf3-f51e56b49a5b",
   "metadata": {},
   "outputs": [],
   "source": [
    "stopwords = set(stopwords.words('english'))"
   ]
  },
  {
   "cell_type": "code",
   "execution_count": 9,
   "id": "fc85e6ce-9bfa-4637-aaf8-c7f7cafdf6c7",
   "metadata": {},
   "outputs": [],
   "source": [
    "ps = PorterStemmer()"
   ]
  },
  {
   "cell_type": "code",
   "execution_count": 10,
   "id": "2390a4ce-9600-4cf7-86b4-df97c92a3bfe",
   "metadata": {},
   "outputs": [],
   "source": [
    "vector = TfidfVectorizer()"
   ]
  },
  {
   "cell_type": "code",
   "execution_count": 11,
   "id": "7e95836a-d14f-4d54-a15a-2b1d80e5d895",
   "metadata": {},
   "outputs": [],
   "source": [
    "documents=[\"america bangalore chennai\",\"america bangalore chennai\",\"america bangalore chennai\"]"
   ]
  },
  {
   "cell_type": "code",
   "execution_count": 13,
   "id": "e69abd9b-d212-4e95-b9bd-96c7c05435a8",
   "metadata": {},
   "outputs": [
    {
     "name": "stdout",
     "output_type": "stream",
     "text": [
      "['america bangalor chennai']\n",
      "['america bangalor chennai', 'america bangalor chennai']\n",
      "['america bangalor chennai', 'america bangalor chennai', 'america bangalor chennai']\n",
      "<Compressed Sparse Row sparse matrix of dtype 'float64'\n",
      "\twith 9 stored elements and shape (3, 3)>\n",
      "  Coords\tValues\n",
      "  (0, 0)\t0.5773502691896258\n",
      "  (0, 1)\t0.5773502691896258\n",
      "  (0, 2)\t0.5773502691896258\n",
      "  (1, 0)\t0.5773502691896258\n",
      "  (1, 1)\t0.5773502691896258\n",
      "  (1, 2)\t0.5773502691896258\n",
      "  (2, 0)\t0.5773502691896258\n",
      "  (2, 1)\t0.5773502691896258\n",
      "  (2, 2)\t0.5773502691896258\n"
     ]
    }
   ],
   "source": [
    "preprocessed =[]\n",
    "for doc in documents:\n",
    "    tokenization = word_tokenize(doc)\n",
    "    stop = [ps.stem(word) for word in tokenization if word not in stopwords]\n",
    "    preprocessed.append(\" \".join(stop))\n",
    "    print(preprocessed)\n",
    "word_score = vector.fit_transform(preprocessed)\n",
    "print(word_score)\n",
    "    "
   ]
  },
  {
   "cell_type": "code",
   "execution_count": null,
   "id": "53dad906-de22-4a8c-a973-b02d450b5f6a",
   "metadata": {},
   "outputs": [],
   "source": []
  }
 ],
 "metadata": {
  "kernelspec": {
   "display_name": "Python 3 (ipykernel)",
   "language": "python",
   "name": "python3"
  },
  "language_info": {
   "codemirror_mode": {
    "name": "ipython",
    "version": 3
   },
   "file_extension": ".py",
   "mimetype": "text/x-python",
   "name": "python",
   "nbconvert_exporter": "python",
   "pygments_lexer": "ipython3",
   "version": "3.13.5"
  }
 },
 "nbformat": 4,
 "nbformat_minor": 5
}
