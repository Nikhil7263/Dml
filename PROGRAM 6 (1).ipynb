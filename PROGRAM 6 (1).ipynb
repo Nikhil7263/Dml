{
 "cells": [
  {
   "cell_type": "markdown",
   "id": "2c64e062-b3d0-47e2-b810-a7a6ae9d6a47",
   "metadata": {},
   "source": [
    "# MULTIPLE LINEAR REGRESSION (MLR)"
   ]
  },
  {
   "cell_type": "code",
   "execution_count": 8,
   "id": "730011b9-16b2-4497-9a97-70cfcf136862",
   "metadata": {},
   "outputs": [
    {
     "name": "stdout",
     "output_type": "stream",
     "text": [
      "      Id  SepalLengthCm  SepalWidthCm  PetalLengthCm  PetalWidthCm  \\\n",
      "0      1            5.1           3.5            1.4           0.2   \n",
      "1      2            4.9           3.0            1.4           0.2   \n",
      "2      3            4.7           3.2            1.3           0.2   \n",
      "3      4            4.6           3.1            1.5           0.2   \n",
      "4      5            5.0           3.6            1.4           0.2   \n",
      "..   ...            ...           ...            ...           ...   \n",
      "145  146            6.7           3.0            5.2           2.3   \n",
      "146  147            6.3           2.5            5.0           1.9   \n",
      "147  148            6.5           3.0            5.2           2.0   \n",
      "148  149            6.2           3.4            5.4           2.3   \n",
      "149  150            5.9           3.0            5.1           1.8   \n",
      "\n",
      "            Species  \n",
      "0       Iris-setosa  \n",
      "1       Iris-setosa  \n",
      "2       Iris-setosa  \n",
      "3       Iris-setosa  \n",
      "4       Iris-setosa  \n",
      "..              ...  \n",
      "145  Iris-virginica  \n",
      "146  Iris-virginica  \n",
      "147  Iris-virginica  \n",
      "148  Iris-virginica  \n",
      "149  Iris-virginica  \n",
      "\n",
      "[150 rows x 6 columns]\n",
      "[4.22843965 1.19975319 4.9624599  1.69386569 2.08107573 7.35688007\n",
      " 2.00742458 4.54199854 1.57981472 5.54917786 4.61564968 3.57521904\n",
      " 1.56086041 5.06936236 2.04782441 1.48720926 1.42070662 4.75580347\n",
      " 2.48724008 4.22843965 1.8672708  2.11432705 4.08828586 2.50868559\n",
      " 4.13583419 6.04329036 3.56807054 2.10717854 5.58242918 5.23561896]\n"
     ]
    }
   ],
   "source": [
    "import pandas as pd\n",
    "iris = pd.read_csv(\"IRIS.csv\")\n",
    "print(iris)\n",
    "import numpy as np\n",
    "\n",
    "x = iris[['SepalLengthCm','SepalWidthCm']]\n",
    "y = iris.PetalLengthCm\n",
    "\n",
    "from sklearn.model_selection import train_test_split\n",
    "x_train, x_test, y_train, y_test = train_test_split(x,y,test_size=0.2)\n",
    "\n",
    "from sklearn.linear_model import LinearRegression\n",
    "LR = LinearRegression()\n",
    "training = LR.fit(x_train, y_train)\n",
    "y_pred = LR.predict(x_test)\n",
    "print(y_pred)"
   ]
  },
  {
   "cell_type": "code",
   "execution_count": null,
   "id": "6a2edbef-52c6-49ce-90a0-77bc2ae04cd5",
   "metadata": {},
   "outputs": [],
   "source": []
  }
 ],
 "metadata": {
  "kernelspec": {
   "display_name": "Python 3 (ipykernel)",
   "language": "python",
   "name": "python3"
  },
  "language_info": {
   "codemirror_mode": {
    "name": "ipython",
    "version": 3
   },
   "file_extension": ".py",
   "mimetype": "text/x-python",
   "name": "python",
   "nbconvert_exporter": "python",
   "pygments_lexer": "ipython3",
   "version": "3.13.5"
  }
 },
 "nbformat": 4,
 "nbformat_minor": 5
}
